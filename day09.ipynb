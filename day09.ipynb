{
 "cells": [
  {
   "cell_type": "code",
   "execution_count": 8,
   "id": "4bf8fdf6-d833-4130-b151-051d8a03a1cd",
   "metadata": {},
   "outputs": [
    {
     "name": "stdout",
     "output_type": "stream",
     "text": [
      "This is the index of the seach item: 5\n"
     ]
    }
   ],
   "source": [
    "def binary_search(arr,low,high,x):\n",
    "    if high>=low:\n",
    "        mid=(high+low)//2\n",
    "        if arr[mid]==x:\n",
    "            return mid\n",
    "        elif arr[mid]>x:\n",
    "            return binary_search(arr,low,mid-1,x)\n",
    "        else:\n",
    "            return binary_search(arr,mid+1,high,x)\n",
    "    else:\n",
    "        return -1\n",
    "n=[1,2,3,4,5,6,7,8,9,10]\n",
    "low=0\n",
    "high=len(n)-1\n",
    "search_item=6\n",
    "result=binary_search(n,low,high,search_item)\n",
    "print(\"This is the index of the seach item:\",result)"
   ]
  },
  {
   "cell_type": "code",
   "execution_count": 47,
   "id": "2437f4a2-2112-4194-a6a6-46fc3489d908",
   "metadata": {},
   "outputs": [
    {
     "name": "stdin",
     "output_type": "stream",
     "text": [
      "Enter the string:  this is\n"
     ]
    },
    {
     "name": "stdout",
     "output_type": "stream",
     "text": [
      "is this "
     ]
    }
   ],
   "source": [
    "str=input(\"Enter the string: \")\n",
    "x=[]\n",
    "for i in str.split():\n",
    "    x.append(i)\n",
    "for i in range(len(x)-1,-1,-1):\n",
    "    print(x.pop(),end=\" \")"
   ]
  },
  {
   "cell_type": "code",
   "execution_count": 48,
   "id": "97e0021d-d5da-43ad-836d-ede52038a087",
   "metadata": {},
   "outputs": [
    {
     "name": "stdin",
     "output_type": "stream",
     "text": [
      "Enter the string:  this is\n"
     ]
    },
    {
     "name": "stdout",
     "output_type": "stream",
     "text": [
      "s i   s i h t "
     ]
    }
   ],
   "source": [
    "str=input(\"Enter the string: \")\n",
    "x=[]\n",
    "for i in str:\n",
    "    x.append(i)\n",
    "while len(x)>0:\n",
    "    print(x.pop(),end=\" \")"
   ]
  },
  {
   "cell_type": "code",
   "execution_count": 8,
   "id": "e08a6e75-85e6-4de4-bbe1-2d36e55cda42",
   "metadata": {},
   "outputs": [
    {
     "name": "stdin",
     "output_type": "stream",
     "text": [
      "Enter the expersion a+b\n"
     ]
    },
    {
     "name": "stdout",
     "output_type": "stream",
     "text": [
      "<class 'str'>\n",
      "<class 'str'>\n",
      "<class 'str'>\n",
      "ab+\n"
     ]
    }
   ],
   "source": [
    "def prec(c):\n",
    "    if c == '^':\n",
    "        return 3\n",
    "    elif c == '/' or c == '*':\n",
    "        return 2\n",
    "    elif c == '+' or c == '-':\n",
    "        return 1\n",
    "    else:\n",
    "        return -1\n",
    " \n",
    "def associativity(c):\n",
    "    if c == '^':\n",
    "        return 'R'\n",
    "    return 'L'  # Default to left-associative\n",
    " \n",
    "def infix_to_postfix(s):\n",
    "    result = []\n",
    "    stack = []\n",
    " \n",
    "    for i in range(len(s)):\n",
    "        c = s[i]\n",
    "        print(type(c))\n",
    " \n",
    "        # If the scanned character is an operand, add it to the output string.\n",
    "        if ('a' <= c <= 'z') or ('A' <= c <= 'Z') or ('0' <= c <= '9'):\n",
    "            result.append(c)\n",
    "        # If the scanned character is an ‘(‘, push it to the stack.\n",
    "        elif c == '(':\n",
    "            stack.append(c)\n",
    "        # If the scanned character is an ‘)’, pop and add to the output string from the stack\n",
    "        # until an ‘(‘ is encountered.\n",
    "        elif c == ')':\n",
    "            while stack and stack[-1] != '(':\n",
    "                result.append(stack.pop())\n",
    "            stack.pop()  # Pop '('\n",
    "        # If an operator is scanned\n",
    "        else:\n",
    "            while stack and (prec(s[i]) < prec(stack[-1]) or\n",
    "                             (prec(s[i]) == prec(stack[-1]) and associativity(s[i]) == 'L')):\n",
    "                result.append(stack.pop())\n",
    "            stack.append(c)\n",
    " \n",
    "    # Pop all the remaining elements from the stack\n",
    "    while stack:\n",
    "        result.append(stack.pop())\n",
    " \n",
    "    print(''.join(result))\n",
    " \n",
    "# Driver code\n",
    "exp =input(\"Enter the expersion\")\n",
    " \n",
    "# Function call\n",
    "infix_to_postfix(exp)"
   ]
  },
  {
   "cell_type": "code",
   "execution_count": 13,
   "id": "352e7b5a-dd90-4beb-8d36-de951df7b92c",
   "metadata": {},
   "outputs": [
    {
     "name": "stdout",
     "output_type": "stream",
     "text": [
      ")\n",
      "b\n",
      "a\n"
     ]
    }
   ],
   "source": [
    "s=['c','(','a','b',')']\n",
    "while s[-1]!='(':\n",
    "    print(s.pop())"
   ]
  },
  {
   "cell_type": "code",
   "execution_count": 4,
   "id": "58fe348f-b0ab-4332-bcd4-59f85f851aa6",
   "metadata": {},
   "outputs": [
    {
     "name": "stdin",
     "output_type": "stream",
     "text": [
      " a+b\n"
     ]
    },
    {
     "name": "stdout",
     "output_type": "stream",
     "text": [
      " ab+\n"
     ]
    }
   ],
   "source": [
    "def prec(c):\n",
    "    if c == '^':\n",
    "        return 3\n",
    "    elif c == '/' or '*':\n",
    "        return 2\n",
    "    elif c == '+' or '-':\n",
    "        return 1\n",
    "    else:\n",
    "        return -1\n",
    "def associativity(c):\n",
    "    if c == '^':\n",
    "        return 'R'\n",
    "    else:\n",
    "        return 'L'\n",
    "\n",
    "exp=input()\n",
    "result=\" \"\n",
    "s=[]\n",
    "for e in exp:\n",
    "    if e.isalnum():\n",
    "        result+=e\n",
    "    elif e == '(' :\n",
    "        s.append(e)\n",
    "    elif e== ')' :\n",
    "        while s[-1] != '(':\n",
    "            result += s.pop()\n",
    "        s.pop()\n",
    "    else:\n",
    "        while s and (prec(e)<prec(s[-1])or (prec(e) == prec(s[-1]) and associativity(e) == 'L')):\n",
    "            result+=s.pop()\n",
    "        s.append(e)\n",
    "while s:\n",
    "    result+=s.pop()\n",
    "print(result)"
   ]
  },
  {
   "cell_type": "code",
   "execution_count": 4,
   "id": "1eb24b52-da14-47d1-ba35-c3f44db929c6",
   "metadata": {},
   "outputs": [
    {
     "name": "stdin",
     "output_type": "stream",
     "text": [
      " A D C R R A A C R D C C\n"
     ]
    },
    {
     "name": "stdout",
     "output_type": "stream",
     "text": [
      "['A', 'D', 'C', 'R', 'R', 'A', 'A', 'C', 'R', 'D', 'C', 'C']\n",
      "4 ['A', 'D', 'R', 'D']\n"
     ]
    }
   ],
   "source": [
    "a=[item for item in input().split()]\n",
    "print(a)\n",
    "s=[]\n",
    "for item in a:\n",
    "    if not s:\n",
    "        s.append(item)\n",
    "    elif s[-1] == item:\n",
    "        s.pop()\n",
    "    else:\n",
    "        s.append(item)\n",
    "        \n",
    "print(len(s),s)"
   ]
  },
  {
   "cell_type": "code",
   "execution_count": 21,
   "id": "65bfbd60-2b9c-4f59-80e4-086a86a8f9b5",
   "metadata": {},
   "outputs": [
    {
     "name": "stdin",
     "output_type": "stream",
     "text": [
      " {}\n"
     ]
    },
    {
     "name": "stdout",
     "output_type": "stream",
     "text": [
      "valid\n"
     ]
    }
   ],
   "source": [
    "a=input()\n",
    "S=[]\n",
    "for e in a:\n",
    "    if e == '(' or e == '{' or e == '[':\n",
    "        S.append(e)\n",
    "    elif (e == ')' and S[-1]== '(' )or (e == '}' and S[-1]== '{') or (e == ']' and S[-1]=='['):\n",
    "        S.pop()\n",
    "    else:\n",
    "        continue\n",
    "\n",
    "if not S:\n",
    "    print(\"valid\")\n",
    "else:\n",
    "    print(\"invalid\")"
   ]
  },
  {
   "cell_type": "code",
   "execution_count": null,
   "id": "721ce44a-4a7f-42a5-8502-05e7cf791a05",
   "metadata": {},
   "outputs": [],
   "source": []
  }
 ],
 "metadata": {
  "kernelspec": {
   "display_name": "Python 3 (ipykernel)",
   "language": "python",
   "name": "python3"
  },
  "language_info": {
   "codemirror_mode": {
    "name": "ipython",
    "version": 3
   },
   "file_extension": ".py",
   "mimetype": "text/x-python",
   "name": "python",
   "nbconvert_exporter": "python",
   "pygments_lexer": "ipython3",
   "version": "3.12.3"
  }
 },
 "nbformat": 4,
 "nbformat_minor": 5
}
