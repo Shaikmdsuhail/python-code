{
 "cells": [
  {
   "cell_type": "code",
   "execution_count": 1,
   "id": "10c272e6-e378-4d60-ba2d-837d40705b94",
   "metadata": {},
   "outputs": [
    {
     "name": "stdout",
     "output_type": "stream",
     "text": [
      "2\n",
      "4\n",
      "6\n",
      "8\n",
      "10\n",
      "12\n",
      "14\n",
      "16\n",
      "18\n",
      "20\n"
     ]
    }
   ],
   "source": [
    "for i in range(1,11):\n",
    "    print(2*i)"
   ]
  },
  {
   "cell_type": "code",
   "execution_count": 4,
   "id": "f44ac29e-237b-4593-bfec-fa39e754011a",
   "metadata": {},
   "outputs": [
    {
     "name": "stdin",
     "output_type": "stream",
     "text": [
      "Enter the no:  5\n"
     ]
    },
    {
     "name": "stdout",
     "output_type": "stream",
     "text": [
      "5 * 1 = 5\n",
      "5 * 2 = 10\n",
      "5 * 3 = 15\n",
      "5 * 4 = 20\n",
      "5 * 5 = 25\n",
      "5 * 6 = 30\n",
      "5 * 7 = 35\n",
      "5 * 8 = 40\n",
      "5 * 9 = 45\n",
      "5 * 10 = 50\n"
     ]
    }
   ],
   "source": [
    "n=int(input(\"Enter the no: \"))\n",
    "for i in range(1,11):\n",
    "    print(n,\"*\",i,\"=\",n*i)"
   ]
  },
  {
   "cell_type": "code",
   "execution_count": 6,
   "id": "1a06dcc9-b244-4b07-8f95-86aa82b3d310",
   "metadata": {},
   "outputs": [
    {
     "name": "stdin",
     "output_type": "stream",
     "text": [
      "Enter the no:  5\n"
     ]
    },
    {
     "name": "stdout",
     "output_type": "stream",
     "text": [
      "5 * 1 = 5\n",
      "5 * 2 = 10\n",
      "5 * 3 = 15\n",
      "5 * 4 = 20\n",
      "5 * 5 = 25\n",
      "5 * 6 = 30\n",
      "5 * 7 = 35\n",
      "5 * 8 = 40\n",
      "5 * 9 = 45\n",
      "5 * 10 = 50\n"
     ]
    }
   ],
   "source": [
    "n=int(input(\"Enter the no: \"))\n",
    "def mul_table(N, i):\n",
    "    if i > 10:\n",
    "        return\n",
    "    print(N,\"*\",i,\"=\",N * i)\n",
    "    mul_table(N, i + 1)\n",
    "    return\n",
    "mul_table(n,1)"
   ]
  },
  {
   "cell_type": "code",
   "execution_count": 23,
   "id": "c63ae806-ae2a-4048-bab9-550ccbe316ec",
   "metadata": {},
   "outputs": [
    {
     "name": "stdin",
     "output_type": "stream",
     "text": [
      "Enter the number 5\n"
     ]
    },
    {
     "name": "stdout",
     "output_type": "stream",
     "text": [
      "Factorial of 5 is 120\n"
     ]
    }
   ],
   "source": [
    "def factorial(n):\n",
    "    if n==1 or n==0:\n",
    "        return 1\n",
    "    return n * factorial(n - 1) \n",
    "num = int(input(\"Enter the number\"))\n",
    "print(\"Factorial of\",num,\"is\",factorial(num))"
   ]
  },
  {
   "cell_type": "code",
   "execution_count": 24,
   "id": "3c6fb9ac-6ca4-4198-a7f5-efb5a8037b57",
   "metadata": {},
   "outputs": [
    {
     "name": "stdin",
     "output_type": "stream",
     "text": [
      "Enter number: 0\n"
     ]
    },
    {
     "name": "stdout",
     "output_type": "stream",
     "text": [
      "Factorial of the number is:  1\n"
     ]
    }
   ],
   "source": [
    "n=int(input(\"Enter number:\"))\n",
    "fact=1\n",
    "while(n>0):\n",
    "    fact=fact*n\n",
    "    n=n-1\n",
    "print(\"Factorial of the number is: \",fact)"
   ]
  },
  {
   "cell_type": "code",
   "execution_count": 11,
   "id": "578d1e70-a72c-4c57-a87d-d24b1f9a131c",
   "metadata": {},
   "outputs": [
    {
     "name": "stdin",
     "output_type": "stream",
     "text": [
      "Enter number:  -10\n"
     ]
    },
    {
     "name": "stdout",
     "output_type": "stream",
     "text": [
      "1\n"
     ]
    }
   ],
   "source": [
    "n=int(input(\"Enter number: \"))\n",
    "fact=1\n",
    "for i in range(1,n+1):\n",
    "    fact=fact*n\n",
    "    n-=1\n",
    "print(fact)"
   ]
  },
  {
   "cell_type": "code",
   "execution_count": 12,
   "id": "be2f9bc1-5a42-4858-8440-8369a691eb25",
   "metadata": {},
   "outputs": [
    {
     "name": "stdin",
     "output_type": "stream",
     "text": [
      "Enter number:  -10\n"
     ]
    },
    {
     "name": "stdout",
     "output_type": "stream",
     "text": [
      "1\n"
     ]
    }
   ],
   "source": [
    "n=int(input(\"Enter number: \"))\n",
    "fact=1\n",
    "for i in range(n,1,-1):\n",
    "    fact*=i\n",
    "print(fact)"
   ]
  },
  {
   "cell_type": "code",
   "execution_count": 37,
   "id": "088924b6-ed94-489b-a446-6b3383bae70a",
   "metadata": {},
   "outputs": [
    {
     "name": "stdin",
     "output_type": "stream",
     "text": [
      "Enter n 5\n"
     ]
    },
    {
     "name": "stdout",
     "output_type": "stream",
     "text": [
      "[0, 1, 1, 2, 3, 5]\n"
     ]
    }
   ],
   "source": [
    "def fibonacci(n):\n",
    "    fibtable=[0,1]\n",
    "    for i in range(2,n+1):\n",
    "        fibtable.append(fibtable[i-1]+fibtable[i-2])\n",
    "    return (fibtable)\n",
    "n=int (input(\"Enter n\"))\n",
    "fibseries=fibonacci(n)\n",
    "print(fibseries)"
   ]
  },
  {
   "cell_type": "code",
   "execution_count": 41,
   "id": "ce79bccf-0b64-4609-b96c-ce6fca6f255a",
   "metadata": {},
   "outputs": [
    {
     "name": "stdin",
     "output_type": "stream",
     "text": [
      "Enter n 7\n"
     ]
    },
    {
     "name": "stdout",
     "output_type": "stream",
     "text": [
      "13\n"
     ]
    }
   ],
   "source": [
    "def fibonacci(i):\n",
    "    if i==0:\n",
    "        return 0\n",
    "    if i==1:\n",
    "        return 1    \n",
    "    return fibonacci(i-1)+fibonacci(i-2)\n",
    "n=int(input(\"Enter n\"))\n",
    "fibseries=fibonacci(n)\n",
    "print(fibseries)"
   ]
  },
  {
   "cell_type": "code",
   "execution_count": 52,
   "id": "c6f19c24-9d18-4346-ad58-bdafc186654f",
   "metadata": {},
   "outputs": [
    {
     "name": "stdout",
     "output_type": "stream",
     "text": [
      "[7, 5, 6, 2, 8, 1, 3, 9, 4]\n",
      "[5, 6, 2, 1, 3, 4]\n",
      "[2, 1, 3, 4]\n",
      "[3, 4]\n",
      "[8, 9]\n",
      "Sorted Array in Ascending Order:\n",
      "[1, 2, 3, 4, 5, 6, 7, 8, 9]\n"
     ]
    }
   ],
   "source": [
    "def quicksort(arr):\n",
    "    if len(arr) <= 1:\n",
    "        return arr\n",
    "    else:\n",
    "        pivot = arr[0]\n",
    "        left = [x for x in arr[1:] if x < pivot]\n",
    "        right = [x for x in arr[1:] if x >= pivot]\n",
    "        print(arr)\n",
    "        return quicksort(left) + [pivot] + quicksort(right)\n",
    "\n",
    "arr = [7, 5, 6, 2, 8, 1, 3, 9, 4]\n",
    "sorted_arr = quicksort(arr)\n",
    "print(\"Sorted Array in Ascending Order:\")\n",
    "print(sorted_arr)"
   ]
  },
  {
   "cell_type": "code",
   "execution_count": 3,
   "id": "3b1d085e-d600-458f-9a31-9531324dd9bb",
   "metadata": {},
   "outputs": [
    {
     "name": "stdout",
     "output_type": "stream",
     "text": [
      "[7, 5, 6, 2, 8, 1, 3, 9, 4]\n",
      "7\n",
      "[2, 1, 3, 7, 8, 5, 6, 9, 4]\n",
      "3\n",
      "[2, 1, 3, 7, 8, 5, 6, 9, 4]\n",
      "2\n",
      "[2, 1, 3, 7, 8, 5, 6, 9, 4]\n",
      "8\n",
      "[2, 1, 3, 7, 8, 5, 6, 9, 4]\n",
      "5\n",
      "[2, 1, 3, 7, 8, 5, 6, 9, 4]\n",
      "6\n",
      "[2, 1, 3, 7, 8, 5, 6, 9, 4]\n",
      "9\n",
      "[2, 1, 3, 7, 8, 5, 6, 9, 4]\n"
     ]
    }
   ],
   "source": [
    "def findpi(ar,low,high):\n",
    "    pe=ar[high]\n",
    "    j=low-1\n",
    "    for i in range(low,high):\n",
    "        if pe>ar[i]:\n",
    "            j+=1\n",
    "            ar[i],ar[j]=ar[j],ar[i]\n",
    "    return j+1\n",
    "\n",
    "def quicksort(ar,low,high):\n",
    "    if low < high:\n",
    "        print(ar)\n",
    "        pi = findpi(ar,low,high)\n",
    "        print(ar[pi])\n",
    "        quicksort(ar,low,pi-1)\n",
    "        quicksort(ar,pi+1,high)\n",
    "\n",
    "ar = [7, 5, 6, 2, 8, 1, 3, 9, 4]\n",
    "quicksort(ar,0,len(ar)-1)\n",
    "print(ar)"
   ]
  },
  {
   "cell_type": "code",
   "execution_count": 4,
   "id": "74ff5b59-e032-4f4b-914b-a9057c0d55b8",
   "metadata": {},
   "outputs": [
    {
     "name": "stdout",
     "output_type": "stream",
     "text": [
      "Node 1 <__main__.node object at 0x000002954941A2D0> 1\n",
      "Node 2 <__main__.node object at 0x000002954941A420> 2\n",
      "Node 3 <__main__.node object at 0x000002954941B5F0> 3\n",
      "Node 4 <__main__.node object at 0x000002954941B980> 4\n"
     ]
    }
   ],
   "source": [
    "class node:\n",
    "    def __init__(self,value):\n",
    "        self.data=value\n",
    "        self.next=None\n",
    "\n",
    "\n",
    "head=node(1)\n",
    "head.next=node(2)\n",
    "head.next.next=node(3)\n",
    "head.next.next.next=node(4)\n",
    "print(\"Node 1\",head,head.data)\n",
    "print(\"Node 2\",head.next,head.next.data)\n",
    "print(\"Node 3\",head.next.next,head.next.next.data)\n",
    "print(\"Node 4\",head.next.next.next,head.next.next.next.data)"
   ]
  },
  {
   "cell_type": "code",
   "execution_count": null,
   "id": "9d5ffd42-4721-4499-9de1-5195744e184e",
   "metadata": {},
   "outputs": [],
   "source": []
  }
 ],
 "metadata": {
  "kernelspec": {
   "display_name": "Python 3 (ipykernel)",
   "language": "python",
   "name": "python3"
  },
  "language_info": {
   "codemirror_mode": {
    "name": "ipython",
    "version": 3
   },
   "file_extension": ".py",
   "mimetype": "text/x-python",
   "name": "python",
   "nbconvert_exporter": "python",
   "pygments_lexer": "ipython3",
   "version": "3.12.3"
  }
 },
 "nbformat": 4,
 "nbformat_minor": 5
}
