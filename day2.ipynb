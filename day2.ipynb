{
 "cells": [
  {
   "cell_type": "code",
   "execution_count": null,
   "id": "3255d04d-b7d6-4c99-a6f9-aeb77b380a97",
   "metadata": {},
   "outputs": [],
   "source": [
    "Name = input(\"Enter your Name: \")\n",
    "age = int(input(\"Enter your age: \"))\n",
    "\n",
    "if age>=18:\n",
    "    print(Name)\n",
    "    print(\"You are Eligible\")\n",
    "else:\n",
    "    print(Name)\n",
    "    print(\"You are Not Eligible\")"
   ]
  },
  {
   "cell_type": "code",
   "execution_count": null,
   "id": "ef0178e4-9ac3-476f-9100-dd94efa2f961",
   "metadata": {},
   "outputs": [],
   "source": [
    "a = int(input(\"Enter the first number: \"))\n",
    "b = int(input(\"Enter the second number: \"))\n",
    "if a>b:\n",
    "    print(\"a is greater\")\n",
    "if b>a:\n",
    "    print(\"b is greater\")\n",
    "if a==b:\n",
    "    print(\"a and b equal\")"
   ]
  },
  {
   "cell_type": "code",
   "execution_count": null,
   "id": "3c3dfcad-bbee-4cb1-87c6-a96a27f89b00",
   "metadata": {},
   "outputs": [],
   "source": [
    "a=int(input())\n",
    "b=int(input())\n",
    "c=int(input())\n",
    "\n",
    "if a>b:\n",
    "    if a>c:\n",
    "        print(\"a is greater\")\n",
    "    else:\n",
    "        print(\"c is greater\")\n",
    "else:\n",
    "    if b>c:\n",
    "        print(\"b is greater\")\n",
    "    else:\n",
    "        print(\"c is greater\")"
   ]
  },
  {
   "cell_type": "code",
   "execution_count": null,
   "id": "3e4a7480-bb91-45d9-afbc-f077315ed683",
   "metadata": {},
   "outputs": [],
   "source": [
    "marks=int(input(\"Enter the marks: \"))\n",
    "\n",
    "if marks>=90 and marks<=100:\n",
    "    print(\"Grade is A+\")\n",
    "else:\n",
    "    if marks>=80 and marks<90:\n",
    "        print(\"Grade is A\")\n",
    "    else:\n",
    "        if marks>=70 and marks<80:\n",
    "            print(\"Grade is B+\")\n",
    "        else:\n",
    "            if marks>=60 and marks<70:\n",
    "                print(\"Grade is B\")\n",
    "            else:\n",
    "                if marks>=50 and marks<60:\n",
    "                    print(\"Grade is C\")\n",
    "                else:\n",
    "                    if marks>=40 and marks<50:\n",
    "                        print(\"Grade is D\")\n",
    "                    else:\n",
    "                        if marks>=30 and marks<40:\n",
    "                            print(\"Grade is E\")\n",
    "                        else:\n",
    "                            if marks>=0 and marks<30:\n",
    "                                print(\"grade is F\")"
   ]
  },
  {
   "cell_type": "code",
   "execution_count": 2,
   "id": "ba1a8cdb-2c4f-4042-8456-ab5253191113",
   "metadata": {},
   "outputs": [
    {
     "name": "stdin",
     "output_type": "stream",
     "text": [
      "Enter the marks:  12\n"
     ]
    },
    {
     "name": "stdout",
     "output_type": "stream",
     "text": [
      "Grade = F \n"
     ]
    }
   ],
   "source": [
    "marks=int(input(\"Enter the marks: \"))\n",
    "if marks>100:\n",
    "    print(\"Invalid marks\")\n",
    "elif marks>=90 and marks<=100:\n",
    "    print(\"Grade = A+\")\n",
    "elif marks>=80 and marks<90:\n",
    "    print(\"Grade = A\")\n",
    "elif marks>=70 and marks<80:\n",
    "    print(\"Grade = B+ \")\n",
    "elif marks>=60 and marks<70:\n",
    "    print(\"Grade = B\")\n",
    "elif marks>=50 and marks<60:\n",
    "    print(\"Grade = C \")\n",
    "elif marks>=40 and marks<50:\n",
    "    print(\"Grade = D \")\n",
    "elif marks>=30 and marks<40:\n",
    "    print(\"Grade = E\")\n",
    "elif marks>=0 and marks<30:\n",
    "    print(\"Grade = F \")"
   ]
  },
  {
   "cell_type": "code",
   "execution_count": 22,
   "id": "f3035bfc-4124-4a60-a1f2-f08f6a2c73cb",
   "metadata": {},
   "outputs": [
    {
     "name": "stdout",
     "output_type": "stream",
     "text": [
      "* \n",
      "* * \n",
      "* * * \n",
      "* * * * \n",
      "* * * * * \n"
     ]
    }
   ],
   "source": [
    "\n",
    "for i in range(1, 6):\n",
    "    for j in range(1, i + 1):\n",
    "        print(\"* \",end=\"\")\n",
    "    print()"
   ]
  },
  {
   "cell_type": "code",
   "execution_count": 21,
   "id": "6a74d659-fd5b-41b1-847e-cd2eaaa4b9ef",
   "metadata": {},
   "outputs": [
    {
     "name": "stdout",
     "output_type": "stream",
     "text": [
      "* * * * * * \n",
      "* * * * * \n",
      "* * * * \n",
      "* * * \n",
      "* * \n",
      "* \n"
     ]
    }
   ],
   "source": [
    "for i in range(6, 0,-1):\n",
    "    for j in range(1,i+1 ):\n",
    "        print(\"* \",end=\"\")\n",
    "    print(\"\\r\")"
   ]
  },
  {
   "cell_type": "code",
   "execution_count": null,
   "id": "85a14f62-a1c7-4225-a31b-792af0b7649f",
   "metadata": {},
   "outputs": [],
   "source": []
  }
 ],
 "metadata": {
  "kernelspec": {
   "display_name": "Python 3 (ipykernel)",
   "language": "python",
   "name": "python3"
  },
  "language_info": {
   "codemirror_mode": {
    "name": "ipython",
    "version": 3
   },
   "file_extension": ".py",
   "mimetype": "text/x-python",
   "name": "python",
   "nbconvert_exporter": "python",
   "pygments_lexer": "ipython3",
   "version": "3.12.3"
  }
 },
 "nbformat": 4,
 "nbformat_minor": 5
}
