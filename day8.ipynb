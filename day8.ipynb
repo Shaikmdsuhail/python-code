{
 "cells": [
  {
   "cell_type": "code",
   "execution_count": 4,
   "id": "38d1ab0b-d031-4510-989b-c89fe439443d",
   "metadata": {},
   "outputs": [
    {
     "name": "stdout",
     "output_type": "stream",
     "text": [
      "[1, 2, 3, 4, 5, 6, 7, 8, 9]\n"
     ]
    }
   ],
   "source": [
    "#selection sort\n",
    "a=[9,8,7,5,3,6,2,1,4]\n",
    "for i in range(len(a)):\n",
    "    min_idx=i\n",
    "    for j in range(i+1,len(a)):\n",
    "        if a[min_idx]>a[j]:\n",
    "            min_idx=j\n",
    "    a[i],a[min_idx]=a[min_idx],a[i]\n",
    "print(a)"
   ]
  },
  {
   "cell_type": "code",
   "execution_count": 16,
   "id": "0aa989c0-de1d-4303-a842-f9874da4c8cf",
   "metadata": {},
   "outputs": [
    {
     "name": "stdin",
     "output_type": "stream",
     "text": [
      "Enter the string:  This is (a car\n"
     ]
    },
    {
     "name": "stdout",
     "output_type": "stream",
     "text": [
      "Invalid string\n"
     ]
    }
   ],
   "source": [
    "str=input(\"Enter the string: \")\n",
    "if str.count('(')==str.count(')'):\n",
    "    print(\"valid string\")\n",
    "else:\n",
    "    print(\"Invalid string\")"
   ]
  },
  {
   "cell_type": "code",
   "execution_count": 18,
   "id": "94e1acc4-e6bf-47b9-b989-9680619f0fde",
   "metadata": {},
   "outputs": [
    {
     "name": "stdin",
     "output_type": "stream",
     "text": [
      " this is (a) car\n"
     ]
    },
    {
     "name": "stdout",
     "output_type": "stream",
     "text": [
      "Valid string\n"
     ]
    }
   ],
   "source": [
    "S=input()\n",
    "x=y=z=0\n",
    "for c in S:\n",
    "    match(c):\n",
    "        case '(':x+=1\n",
    "        case ')':x-=1\n",
    "        case '[':y+=1\n",
    "        case ']':y-=1\n",
    "        case '{':z+=1\n",
    "        case '}':z-=1\n",
    "        case _:continue\n",
    "if x+y+z==0:\n",
    "    print(\"Valid string\")\n",
    "else:\n",
    "    print(\"Invalid string\")"
   ]
  },
  {
   "cell_type": "code",
   "execution_count": 30,
   "id": "6485566a-d2cb-4896-b059-8c1175808388",
   "metadata": {},
   "outputs": [
    {
     "name": "stdin",
     "output_type": "stream",
     "text": [
      "Enter the no of elements:  5\n",
      " 1\n",
      " 2\n",
      " 3\n",
      " 4\n",
      " 5\n"
     ]
    },
    {
     "name": "stdout",
     "output_type": "stream",
     "text": [
      "[1, 2, 3, 4, 5]\n",
      "This element is poped 5\n",
      "[1, 2, 3, 4]\n",
      "4\n",
      "3\n",
      "2\n",
      "1\n"
     ]
    }
   ],
   "source": [
    "stack = []\n",
    "n=int(input(\"Enter the no of elements: \"))\n",
    "for i in range(0,n):\n",
    "    stack.append(int(input()))\n",
    "print(stack)\n",
    "print(\"This element is poped\",stack.pop())\n",
    "print(stack)\n",
    "for i in range(len(stack)-1,-1,-1):\n",
    "    print(stack[i])"
   ]
  },
  {
   "cell_type": "code",
   "execution_count": 28,
   "id": "7ec0b8e4-9523-4c5c-a5a1-99153da8e6b4",
   "metadata": {},
   "outputs": [
    {
     "name": "stdin",
     "output_type": "stream",
     "text": [
      "Enter the stack elements:  1 2 3 4 5 6 7 8\n"
     ]
    },
    {
     "name": "stdout",
     "output_type": "stream",
     "text": [
      "[1, 2, 3, 4, 5, 6, 7, 8]\n",
      "This element is poped 1\n",
      "[2, 3, 4, 5, 6, 7, 8]\n"
     ]
    }
   ],
   "source": [
    "queue = list(map(int, input(\"Enter the stack elements: \").split()))\n",
    "print(queue)\n",
    "print(\"This element is poped\",queue.pop(0))\n",
    "print(queue+)"
   ]
  },
  {
   "cell_type": "code",
   "execution_count": null,
   "id": "f9dec08d-aed7-4c89-99a4-acaaab8067ff",
   "metadata": {},
   "outputs": [],
   "source": []
  }
 ],
 "metadata": {
  "kernelspec": {
   "display_name": "Python 3 (ipykernel)",
   "language": "python",
   "name": "python3"
  },
  "language_info": {
   "codemirror_mode": {
    "name": "ipython",
    "version": 3
   },
   "file_extension": ".py",
   "mimetype": "text/x-python",
   "name": "python",
   "nbconvert_exporter": "python",
   "pygments_lexer": "ipython3",
   "version": "3.12.3"
  }
 },
 "nbformat": 4,
 "nbformat_minor": 5
}
