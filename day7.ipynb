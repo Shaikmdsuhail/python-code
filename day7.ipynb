{
 "cells": [
  {
   "cell_type": "code",
   "execution_count": null,
   "id": "8a6fc550-a6c8-4e22-a5de-d037f749e309",
   "metadata": {},
   "outputs": [],
   "source": [
    "l=[2,4,6,1,3,7,4,6,9,3,6,8,3,6,4,1,3,9,6,4,5,6,8,3,7,3,6,8]\n",
    "n = len(l)\n",
    "sm = 0 \n",
    "for i in range(0, n):\n",
    "    for j in range(i + 1, n):\n",
    "        for k in range(j + 1, n):\n",
    "     \n",
    "            if (sm < (l[i] + l[j] + l[k])):\n",
    "                sm = l[i] + l[j] + l[k]\n",
    "print(sm)"
   ]
  },
  {
   "cell_type": "code",
   "execution_count": null,
   "id": "7c395307-bbc0-458f-a271-8ad0d65efef6",
   "metadata": {},
   "outputs": [],
   "source": [
    "L=[2,4,6,1,3,7,4,6,9,3,6,8,3,6,4,1,3,9,6,4,5,6,8,3,7,3,6,8]\n",
    "n=len(L)\n",
    "max=0\n",
    "#find the  maximu SUM of any 3 consecutive elements of this array\n",
    "for i in range (0, n-2):\n",
    "    sum=L[i]+L[i+1]+L[i+2]\n",
    "    if max<sum:\n",
    "        max=sum\n",
    "\n",
    "\n",
    "print(max)"
   ]
  },
  {
   "cell_type": "code",
   "execution_count": null,
   "id": "a7886bb3-eebe-4f4a-b91e-ef5f191e2de0",
   "metadata": {},
   "outputs": [],
   "source": [
    "L=[2,4,6,1,3,7,4,6,9,3,6,8,3,6,4,1,3,9,6,4,5,6,8,3,7,3,6,8]\n",
    "#find the  maximu SUM of any 3 consecutive elements of this array\n",
    "for i in range (0,len(L)-2):\n",
    "    sum=L[i]+L[i+1]+L[i+2]\n",
    "    max_1=max(max_1,sum)\n",
    "\n",
    "\n",
    "print(\"the biggest sum of 3  concegative number:\",max_1)"
   ]
  },
  {
   "cell_type": "code",
   "execution_count": 5,
   "id": "f03a1749-29df-4b91-bc07-199aad742b6c",
   "metadata": {},
   "outputs": [
    {
     "name": "stdin",
     "output_type": "stream",
     "text": [
      "Enter the no of consecutive:  5\n"
     ]
    },
    {
     "name": "stdout",
     "output_type": "stream",
     "text": [
      "32\n"
     ]
    }
   ],
   "source": [
    "L=[2,4,6,1,3,7,4,6,9,3,6,8,3,6,4,1,3,9,6,4,5,6,8,3,7,3,6,8]\n",
    "\n",
    "max = 0\n",
    "n=int(input(\"Enter the no of consecutive: \"))\n",
    "#find the  maximu SUM of any 3 consecutive elements of this array\n",
    "for i in range (0, len(L)-n-1):\n",
    "    sum=0\n",
    "    for j in range(0,n):\n",
    "        sum=sum+L[i+j]\n",
    "    if max<sum:\n",
    "        max=sum\n",
    "\n",
    "\n",
    "print(max)"
   ]
  },
  {
   "cell_type": "code",
   "execution_count": 4,
   "id": "9e3127a9-a06e-4b36-b2d2-7178a8c679eb",
   "metadata": {},
   "outputs": [
    {
     "name": "stdin",
     "output_type": "stream",
     "text": [
      "Enter the no of consecutive:  2\n"
     ]
    },
    {
     "name": "stdout",
     "output_type": "stream",
     "text": [
      "15\n"
     ]
    }
   ],
   "source": [
    "L=[2,4,6,1,3,7,4,6,9,3,6,8,3,6,4,1,3,9,6,4,5,6,8,3,7,3,6,8,2,4,6,1,3,7,4,6,9,3,6,8,3,6,4,1,3,9,6,4,5,6,8,3,2,4,6,1,3,7,4,6,9,3,6,8,3,6,4,1,3,9,6,4,5,6,8,3,2,4,6,1,3,7,4,6,9,3,6,8,3,6,4,1,3,9,6,4,5,6,8,3]\n",
    "max_1 = 0\n",
    "sum=0\n",
    "n=int(input(\"Enter the no of consecutive: \"))\n",
    "for i in range(0,len(L)):\n",
    "    sum=sum+L[i]\n",
    "    if i>=n:\n",
    "        sum=sum-L[i-n]\n",
    "    if i>=n-1:\n",
    "        max_1=max(max_1,sum)\n",
    "\n",
    "print(max_1)"
   ]
  },
  {
   "cell_type": "code",
   "execution_count": null,
   "id": "95f9c81e-de4c-4896-b8f0-47937f8aca2d",
   "metadata": {},
   "outputs": [],
   "source": [
    "def max_sum_of_n_consecutive_elements(arr, n):\n",
    "    if n > len(arr):\n",
    "        return \"Error: n is larger than the array length.\"\n",
    "\n",
    "    max_sum = float('-inf')  # Initialize max_sum with negative infinity\n",
    "    current_sum = 0\n",
    "\n",
    "    for i in range(len(L)):\n",
    "        # Add the current element to the window sum\n",
    "        current_sum += L[i]\n",
    "\n",
    "        # If the window size is larger than n, subtract the element going out of the window\n",
    "        if i >= n:\n",
    "            current_sum -= L[i - n]\n",
    "\n",
    "        # Update max_sum if current_sum is larger\n",
    "        if i >= n - 1:\n",
    "            max_sum = max(max_sum, current_sum)\n",
    "\n",
    "    return max_sum\n",
    "\n",
    "# Take user input for the array\n",
    "L=[2,4,6,1,3,7,4,6,9,3,6,8,3,6,4,1,3,9,6,4,5,6,8,3,7,3,6,8]\n",
    "\n",
    "# Take user input for the value of n\n",
    "n = int(input(\"Enter the value of n: \"))\n",
    "\n",
    "# Find the maximum sum of n consecutive elements\n",
    "result = max_sum_of_n_consecutive_elements(L, n)\n",
    "print(\"Maximum sum of\", n, \"consecutive elements:\", result)\n"
   ]
  },
  {
   "cell_type": "code",
   "execution_count": 1,
   "id": "0942d7b4-d89d-480c-add7-c60f9678bbf4",
   "metadata": {},
   "outputs": [
    {
     "name": "stdout",
     "output_type": "stream",
     "text": [
      "[9, 2, 4, 6, 2, 4, 1, 7]\n",
      "[1, 2, 2, 4, 4, 6, 7, 9]\n",
      "[9, 7, 6, 4, 4, 2, 2, 1]\n"
     ]
    }
   ],
   "source": [
    "arr=[9,2,4,6,2,4,1,7]\n",
    "print (arr)\n",
    "n=len(arr)\n",
    "for i in range(n):\n",
    "    for j in range(0,n-i-1):\n",
    "        if arr[j]>arr[j+1]:\n",
    "            arr[j],arr[j+1]=arr[j+1],arr[j]\n",
    "print(arr)\n",
    "print(arr[:: -1])"
   ]
  },
  {
   "cell_type": "code",
   "execution_count": 6,
   "id": "6ea9833f-0cb8-4ac6-b951-80ee07ac22ac",
   "metadata": {},
   "outputs": [
    {
     "name": "stdout",
     "output_type": "stream",
     "text": [
      "[0, 1, 2, 2, 4, 6, 7, 9, 3]\n"
     ]
    }
   ],
   "source": [
    "arr=[2,1,9,0,7,4,6,2,3]\n",
    "for i in range(0,len(arr)-1):\n",
    "    key=arr[i]\n",
    "    j=i-1\n",
    "    while j>-1 and key<arr[j]:\n",
    "        arr[j+1]=arr[j]\n",
    "        j-=1\n",
    "        arr[j+1]=key\n",
    "print(arr)"
   ]
  },
  {
   "cell_type": "code",
   "execution_count": null,
   "id": "08b80037-5937-4453-9c94-1486a818527f",
   "metadata": {},
   "outputs": [],
   "source": []
  }
 ],
 "metadata": {
  "kernelspec": {
   "display_name": "Python 3 (ipykernel)",
   "language": "python",
   "name": "python3"
  },
  "language_info": {
   "codemirror_mode": {
    "name": "ipython",
    "version": 3
   },
   "file_extension": ".py",
   "mimetype": "text/x-python",
   "name": "python",
   "nbconvert_exporter": "python",
   "pygments_lexer": "ipython3",
   "version": "3.12.3"
  }
 },
 "nbformat": 4,
 "nbformat_minor": 5
}
