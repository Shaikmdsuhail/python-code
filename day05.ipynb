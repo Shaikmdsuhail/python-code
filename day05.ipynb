{
 "cells": [
  {
   "cell_type": "code",
   "execution_count": 1,
   "id": "83588c28-a461-493c-97a9-b43ebce01415",
   "metadata": {},
   "outputs": [
    {
     "name": "stdout",
     "output_type": "stream",
     "text": [
      "this laptop is 8GB ram\n"
     ]
    }
   ],
   "source": [
    "class laptop:\n",
    "    def features(self):\n",
    "            print(\"this laptop is 8GB ram\")\n",
    "dell=laptop()\n",
    "dell.features()"
   ]
  },
  {
   "cell_type": "code",
   "execution_count": 3,
   "id": "c404a682-5727-4bcf-8a82-aa0408152d65",
   "metadata": {},
   "outputs": [
    {
     "name": "stdout",
     "output_type": "stream",
     "text": [
      "this laptop is 8GB ram\n",
      "1\n"
     ]
    }
   ],
   "source": [
    "class laptop:\n",
    "    a=0#value is not fixed\n",
    "    def features(self):\n",
    "            print(\"this laptop is 8GB ram\")\n",
    "dell=laptop()\n",
    "dell.features()\n",
    "dell.a=dell.a+1\n",
    "print(dell.a)"
   ]
  },
  {
   "cell_type": "code",
   "execution_count": 7,
   "id": "970da0b4-c7ea-464a-9ce9-9c7af9432694",
   "metadata": {},
   "outputs": [
    {
     "ename": "TypeError",
     "evalue": "laptop() takes no arguments",
     "output_type": "error",
     "traceback": [
      "\u001b[1;31m---------------------------------------------------------------------------\u001b[0m",
      "\u001b[1;31mTypeError\u001b[0m                                 Traceback (most recent call last)",
      "Cell \u001b[1;32mIn[7], line 1\u001b[0m\n\u001b[1;32m----> 1\u001b[0m \u001b[38;5;28;43;01mclass\u001b[39;49;00m\u001b[43m \u001b[49m\u001b[38;5;21;43;01mlaptop\u001b[39;49;00m\u001b[43m:\u001b[49m\n\u001b[0;32m      2\u001b[0m \u001b[43m    \u001b[49m\u001b[43ma\u001b[49m\u001b[38;5;241;43m=\u001b[39;49m\u001b[38;5;241;43m0\u001b[39;49m\n\u001b[0;32m      3\u001b[0m \u001b[43m    \u001b[49m\u001b[38;5;28;43;01mdef\u001b[39;49;00m\u001b[43m \u001b[49m\u001b[38;5;21;43mfeatures\u001b[39;49m\u001b[43m(\u001b[49m\u001b[38;5;28;43mself\u001b[39;49m\u001b[43m)\u001b[49m\u001b[43m:\u001b[49m\n",
      "Cell \u001b[1;32mIn[7], line 8\u001b[0m, in \u001b[0;36mlaptop\u001b[1;34m()\u001b[0m\n\u001b[0;32m      6\u001b[0m \u001b[38;5;28;01mdef\u001b[39;00m \u001b[38;5;21m_init_\u001b[39m(\u001b[38;5;28mself\u001b[39m,value):\n\u001b[0;32m      7\u001b[0m     \u001b[38;5;28mself\u001b[39m\u001b[38;5;241m.\u001b[39mb\u001b[38;5;241m=\u001b[39mvalue\n\u001b[1;32m----> 8\u001b[0m asus\u001b[38;5;241m=\u001b[39m\u001b[43mlaptop\u001b[49m\u001b[43m(\u001b[49m\u001b[38;5;241;43m20\u001b[39;49m\u001b[43m)\u001b[49m\n\u001b[0;32m      9\u001b[0m \u001b[38;5;28mprint\u001b[39m(a)\n\u001b[0;32m     10\u001b[0m \u001b[38;5;28mprint\u001b[39m(b)\n",
      "\u001b[1;31mTypeError\u001b[0m: laptop() takes no arguments"
     ]
    }
   ],
   "source": [
    "class laptop:\n",
    "    a=0\n",
    "    def features(self):\n",
    "            print(\"this laptop is 8GB ram\")\n",
    "        \n",
    "    def _init_(self,value):\n",
    "        self.b=value\n",
    "    asus=laptop(20)\n",
    "    print(a)\n",
    "    print(b)"
   ]
  },
  {
   "cell_type": "code",
   "execution_count": 8,
   "id": "fda0a5e3-8561-4bd4-9957-0996662fae61",
   "metadata": {},
   "outputs": [
    {
     "name": "stdout",
     "output_type": "stream",
     "text": [
      "conf of the laptop is:\n",
      "processor i5\n",
      "ram 8\n",
      "storage 512\n"
     ]
    }
   ],
   "source": [
    "class laptop:\n",
    "    def __init__(self,p,r,s):\n",
    "        self.processor=p\n",
    "        self.ram=r\n",
    "        self.storage=s\n",
    "    def confi(self):\n",
    "        print(\"conf of the laptop is:\")\n",
    "        print(\"processor\",self.processor)\n",
    "        print(\"ram\",self.ram)\n",
    "        print(\"storage\",self.storage)\n",
    "if __name__==\"__main__\":\n",
    "    hp=laptop(\"i5\",8,512)\n",
    "    hp.confi()\n",
    "        "
   ]
  },
  {
   "cell_type": "code",
   "execution_count": 20,
   "id": "74b900f1-7f01-48b0-9a61-6ae550adab28",
   "metadata": {},
   "outputs": [
    {
     "name": "stdout",
     "output_type": "stream",
     "text": [
      "the marks of students:\n",
      "english 100\n",
      "kannada 45\n",
      "hindi 90\n",
      "maths 69\n",
      "social 78\n",
      "avg 76.4\n"
     ]
    }
   ],
   "source": [
    "class student:\n",
    "    def __init__(self,s1,s2,s3,s4,s5):\n",
    "        self.english=s1\n",
    "        self.kannada=s2\n",
    "        self.hindi=s3\n",
    "        self.maths=s4\n",
    "        self.social=s5\n",
    "    def marks(self):\n",
    "        print(\"the marks of students:\")\n",
    "        print(\"english\",self.english)\n",
    "        print(\"kannada\",self.kannada)\n",
    "        print(\"hindi\",self.hindi)\n",
    "        print(\"maths\",self.maths)\n",
    "        print(\"social\",self.social)\n",
    "    def avg(self):\n",
    "        avg=(self.english+self.kannada+self.hindi+self.maths+self.social)/5\n",
    "        print(\"avg\",avg)\n",
    "if __name__==\"__main__\":\n",
    "    amigo=student(100,45,90,69,78)\n",
    "    amigo.marks()\n",
    "    amigo.avg()\n",
    "\n",
    " \n",
    "\n"
   ]
  },
  {
   "cell_type": "code",
   "execution_count": 24,
   "id": "1b62f85f-baa8-48c0-9c52-c5477d98ceb8",
   "metadata": {},
   "outputs": [
    {
     "name": "stdout",
     "output_type": "stream",
     "text": [
      "1\n",
      "7\n",
      "9\n"
     ]
    }
   ],
   "source": [
    "class demo:\n",
    "    def __init__(self,a,b,c):\n",
    "        self.x=a\n",
    "        self._y=b\n",
    "        self.__z=c\n",
    "    def output_z(self):\n",
    "        print(self.__z)\n",
    "    def output_x(self):\n",
    "        print(self.x)\n",
    "    def output_y(self):\n",
    "        print(self._y)\n",
    "        \n",
    "ob1=demo(1,7,9)\n",
    "ob1.output_x()\n",
    "ob1.output_y()\n",
    "ob1.output_z()"
   ]
  },
  {
   "cell_type": "code",
   "execution_count": 12,
   "id": "9477841a-581d-4822-be1b-ff39496a7562",
   "metadata": {},
   "outputs": [
    {
     "name": "stdout",
     "output_type": "stream",
     "text": [
      "this is fun1\n",
      "this is fun2\n",
      "this is fun3\n",
      "this is fun2\n"
     ]
    }
   ],
   "source": [
    "class a:\n",
    "    def fun1(self):\n",
    "        print(\"this is fun1\")\n",
    "    def fun2(self):\n",
    "        print(\"this is fun2\")\n",
    "class b(a):\n",
    "    def fun3(self):\n",
    "        print(\"this is fun3\")\n",
    "    def fun4(self):\n",
    "        print(\"this is fun4\")\n",
    "        \n",
    "if __name__==\"__main__\":\n",
    "        ob1=a()\n",
    "        ob2=b()\n",
    "\n",
    "        ob1.fun1()\n",
    "        ob1.fun2()\n",
    "        ob2.fun3()\n",
    "        ob2.fun2()"
   ]
  },
  {
   "cell_type": "code",
   "execution_count": 13,
   "id": "4060f24d-d0fe-4a7c-ab6e-2f5584b27909",
   "metadata": {},
   "outputs": [
    {
     "name": "stdout",
     "output_type": "stream",
     "text": [
      "class a is constructor\n",
      "class b is constructor\n",
      "class c is constructor\n",
      "class d is constructor\n"
     ]
    }
   ],
   "source": [
    "class a:\n",
    "    def __init__(Self):\n",
    "        print(\"class a is constructor\")\n",
    "class b:\n",
    "    def __init__(Self):\n",
    "        print(\"class b is constructor\")\n",
    "class c:\n",
    "    def __init__(Self):\n",
    "        print(\"class c is constructor\")\n",
    "class d:\n",
    "    def __init__(Self):\n",
    "        print(\"class d is constructor\")\n",
    "if __name__==\"__main__\":\n",
    "        ob1=a()\n",
    "        ob2=b()\n",
    "        ob3=c()\n",
    "        ob4=d()"
   ]
  },
  {
   "cell_type": "code",
   "execution_count": 16,
   "id": "256894a2-cdd3-4906-b4d4-79e89b744731",
   "metadata": {},
   "outputs": [
    {
     "name": "stdout",
     "output_type": "stream",
     "text": [
      "class c is constructor\n"
     ]
    }
   ],
   "source": [
    "class a(b):\n",
    "    def __init__(Self):\n",
    "        print(\"class a is constructor\")\n",
    "class b(c,d):\n",
    "    def __init__(Self):\n",
    "        print(\"class b is constructor\")\n",
    "class c:\n",
    "    def __init__(Self):\n",
    "        print(\"class c is constructor\")\n",
    "class d:\n",
    "    def __init__(Self):\n",
    "        print(\"class d is constructor\")\n",
    "if __name__==\"__main__\":\n",
    "    ob1=()"
   ]
  },
  {
   "cell_type": "code",
   "execution_count": 19,
   "id": "c833603d-53b8-4ab8-9f78-773b4d5c928a",
   "metadata": {},
   "outputs": [
    {
     "name": "stdout",
     "output_type": "stream",
     "text": [
      "professional laptop i6 8gb 512 800mah\n"
     ]
    }
   ],
   "source": [
    "class laptop:\n",
    "    def __init__(self,p,r,s):\n",
    "        self.processor=p\n",
    "        self.ram=r\n",
    "        self.storage=s\n",
    "class professional_laptop(laptop):\n",
    "     def __init__(self,bat,p,r,s):\n",
    "         self.battery=bat\n",
    "         super().__init__(p,r,s)\n",
    "class gaming(laptop):\n",
    "     def __init__(self,graph,p,r,s):\n",
    "         self.graphics=graph\n",
    "         super().__init__(p,r,s)\n",
    "professional=professional_laptop(\"800mah\",\"i6\",\"8gb\",512)\n",
    "\n",
    "print(\"professional laptop\",professional.processor,professional.ram,professional.storage,professional.battery)"
   ]
  },
  {
   "cell_type": "code",
   "execution_count": 3,
   "id": "79ef8fa2-41dd-4901-ba0e-036449a138d1",
   "metadata": {},
   "outputs": [
    {
     "name": "stdout",
     "output_type": "stream",
     "text": [
      "Ticket booked Fare Price will be:  6550\n"
     ]
    }
   ],
   "source": [
    "class ticket:\n",
    "   \n",
    "    def __init__(self,D):\n",
    "        self.distance = int(D)\n",
    "        self.farePrice = None\n",
    "\n",
    "class gen(ticket):\n",
    "    def __init__(self,D):\n",
    "        super().__init__(D)\n",
    "    def print_ticket(self):\n",
    "        self.farePrice=50+(self.distance*2)\n",
    "        return self.farePrice\n",
    "        \n",
    "\n",
    "\n",
    "class slp(gen):\n",
    "    def __init__(self,D):\n",
    "        super().__init__(D)\n",
    "\n",
    "    def print_ticket(self):\n",
    "        self.farePrice=super().print_ticket()+(2*self.distance)\n",
    "        return self.farePrice\n",
    "\n",
    "class AC(slp):\n",
    "    def __init__(self,D):\n",
    "        super().__init__(D)\n",
    "    def print_ticket(self):\n",
    "        self.farePrice=super().print_ticket()+(4*self.distance)\n",
    "        return self.farePrice\n",
    "class FC(AC):\n",
    "    def __init__(self,D):\n",
    "        super().__init__(D)\n",
    "    def print_ticket(self):\n",
    "        self.farePrice=super().print_ticket()+(5*self.distance)\n",
    "        return self.farePrice\n",
    "\n",
    "\n",
    "jur = FC(500)\n",
    "print(\"Ticket booked Fare Price will be: \",jur.print_ticket())\n"
   ]
  },
  {
   "cell_type": "code",
   "execution_count": null,
   "id": "ff925569-1bb6-46fa-a251-1e1557b04fce",
   "metadata": {},
   "outputs": [],
   "source": []
  }
 ],
 "metadata": {
  "kernelspec": {
   "display_name": "Python 3 (ipykernel)",
   "language": "python",
   "name": "python3"
  },
  "language_info": {
   "codemirror_mode": {
    "name": "ipython",
    "version": 3
   },
   "file_extension": ".py",
   "mimetype": "text/x-python",
   "name": "python",
   "nbconvert_exporter": "python",
   "pygments_lexer": "ipython3",
   "version": "3.12.3"
  }
 },
 "nbformat": 4,
 "nbformat_minor": 5
}
